{
 "cells": [
  {
   "cell_type": "markdown",
   "metadata": {},
   "source": [
    "# Análisis Exploratorio de Datos - Clasificación de Literatura Médica\n",
    "\n",
    "Este notebook contiene el análisis exploratorio del dataset de literatura médica para el Tech Sphere Challenge. El objetivo es entender la estructura de los datos, las características principales y preparar el terreno para el desarrollo de modelos de clasificación multi-etiqueta."
   ]
  },
  {
   "cell_type": "markdown",
   "metadata": {},
   "source": [
    "## Importación de librerías"
   ]
  },
  {
   "cell_type": "code",
   "execution_count": null,
   "metadata": {},
   "outputs": [],
   "source": [
    "import numpy as np\n",
    "import pandas as pd\n",
    "import matplotlib.pyplot as plt\n",
    "import seaborn as sns\n",
    "import re\n",
    "import nltk\n",
    "from nltk.corpus import stopwords\n",
    "from nltk.tokenize import word_tokenize\n",
    "from collections import Counter\n",
    "\n",
    "# Configuraciones\n",
    "plt.style.use('ggplot')\n",
    "sns.set(style='whitegrid')\n",
    "pd.set_option('display.max_columns', None)\n",
    "\n",
    "# Descargar recursos de NLTK\n",
    "nltk.download('punkt')\n",
    "nltk.download('stopwords')"
   ]
  },
  {
   "cell_type": "markdown",
   "metadata": {},
   "source": [
    "## Carga de datos"
   ]
  },
  {
   "cell_type": "code",
   "execution_count": null,
   "metadata": {},
   "outputs": [],
   "source": [
    "# Cargar el dataset\n",
    "data_path = '../data/raw/challenge_data-18-ago.csv'\n",
    "df = pd.read_csv(data_path, sep=';')\n",
    "\n",
    "# Mostrar las primeras filas\n",
    "print(f'Dimensiones del dataset: {df.shape}')\n",
    "df.head()"
   ]
  },
  {
   "cell_type": "markdown",
   "metadata": {},
   "source": [
    "## Información general del dataset"
   ]
  },
  {
   "cell_type": "code",
   "execution_count": null,
   "metadata": {},
   "outputs": [],
   "source": [
    "# Información general\n",
    "df.info()\n",
    "\n",
    "# Estadísticas descriptivas\n",
    "df.describe(include='all')"
   ]
  },
  {
   "cell_type": "code",
   "execution_count": null,
   "metadata": {},
   "outputs": [],
   "source": [
    "# Verificar valores nulos\n",
    "print('Valores nulos por columna:')\n",
    "print(df.isnull().sum())\n",
    "\n",
    "# Verificar valores duplicados\n",
    "print(f'\nNúmero de filas duplicadas: {df.duplicated().sum()}')"
   ]
  },
  {
   "cell_type": "markdown",
   "metadata": {},
   "source": [
    "## Análisis de las etiquetas (grupos)"
   ]
  },
  {
   "cell_type": "code",
   "execution_count": null,
   "metadata": {},
   "outputs": [],
   "source": [
    "# Analizar la columna 'group'\n",
    "print('Valores únicos en la columna group:')\n",
    "print(df['group'].unique())\n",
    "\n",
    "# Separar las etiquetas múltiples (multi-label)\n",
    "def extract_labels(group_str):\n",
    "    if pd.isna(group_str):\n",
    "        return []\n",
    "    return group_str.split('|')\n",
    "\n",
    "# Extraer todas las etiquetas\n",
    "all_labels = df['group'].apply(extract_labels)\n",
    "\n",
    "# Contar la frecuencia de cada etiqueta\n",
    "label_counts = Counter([label for labels in all_labels for label in labels])\n",
    "\n",
    "# Mostrar la distribución de etiquetas\n",
    "print('\nDistribución de etiquetas:')\n",
    "for label, count in label_counts.items():\n",
    "    print(f'{label}: {count}')"
   ]
  },
  {
   "cell_type": "code",
   "execution_count": null,
   "metadata": {},
   "outputs": [],
   "source": [
    "# Visualizar la distribución de etiquetas\n",
    "plt.figure(figsize=(10, 6))\n",
    "sns.barplot(x=list(label_counts.keys()), y=list(label_counts.values()))\n",
    "plt.title('Distribución de Etiquetas')\n",
    "plt.xlabel('Categoría')\n",
    "plt.ylabel('Frecuencia')\n",
    "plt.xticks(rotation=45)\n",
    "plt.tight_layout()\n",
    "plt.show()"
   ]
  },
  {
   "cell_type": "code",
   "execution_count": null,
   "metadata": {},
   "outputs": [],
   "source": [
    "# Analizar la cantidad de etiquetas por artículo\n",
    "label_count_per_article = all_labels.apply(len)\n",
    "\n",
    "print('Estadísticas de etiquetas por artículo:')\n",
    "print(label_count_per_article.describe())\n",
    "\n",
    "# Visualizar la distribución de cantidad de etiquetas por artículo\n",
    "plt.figure(figsize=(8, 5))\n",
    "sns.countplot(x=label_count_per_article)\n",
    "plt.title('Número de Etiquetas por Artículo')\n",
    "plt.xlabel('Cantidad de Etiquetas')\n",
    "plt.ylabel('Frecuencia')\n",
    "plt.show()"
   ]
  },
  {
   "cell_type": "markdown",
   "metadata": {},
   "source": [
    "## Análisis de los títulos"
   ]
  },
  {
   "cell_type": "code",
   "execution_count": null,
   "metadata": {},
   "outputs": [],
   "source": [
    "# Estadísticas de longitud de los títulos\n",
    "df['title_length'] = df['title'].apply(len)\n",
    "\n",
    "print('Estadísticas de longitud de títulos:')\n",
    "print(df['title_length'].describe())\n",
    "\n",
    "# Visualizar la distribución de longitud de títulos\n",
    "plt.figure(figsize=(10, 6))\n",
    "sns.histplot(df['title_length'], bins=30, kde=True)\n",
    "plt.title('Distribución de Longitud de Títulos')\n",
    "plt.xlabel('Longitud (caracteres)')\n",
    "plt.ylabel('Frecuencia')\n",
    "plt.show()"
   ]
  },
  {
   "cell_type": "code",
   "execution_count": null,
   "metadata": {},
   "outputs": [],
   "source": [
    "# Análisis de palabras en los títulos\n",
    "def preprocess_text(text):\n",
    "    if pd.isna(text):\n",
    "        return []\n",
    "    # Convertir a minúsculas y eliminar caracteres especiales\n",
    "    text = re.sub(r'[^\\w\\s]', '', text.lower())\n",
    "    # Tokenizar\n",
    "    tokens = word_tokenize(text)\n",
    "    # Eliminar stopwords\n",
    "    stop_words = set(stopwords.words('english'))\n",
    "    tokens = [word for word in tokens if word not in stop_words]\n",
    "    return tokens\n",
    "\n",
    "# Procesar títulos\n",
    "title_tokens = df['title'].apply(preprocess_text)\n",
    "\n",
    "# Contar frecuencia de palabras en títulos\n",
    "title_word_counts = Counter([word for tokens in title_tokens for word in tokens])\n",
    "\n",
    "# Mostrar las palabras más comunes en los títulos\n",
    "print('Palabras más comunes en los títulos:')\n",
    "for word, count in title_word_counts.most_common(20):\n",
    "    print(f'{word}: {count}')"
   ]
  },
  {
   "cell_type": "code",
   "execution_count": null,
   "metadata": {},
   "outputs": [],
   "source": [
    "# Visualizar las palabras más comunes en los títulos\n",
    "plt.figure(figsize=(12, 8))\n",
    "words = [word for word, count in title_word_counts.most_common(20)]\n",
    "counts = [count for word, count in title_word_counts.most_common(20)]\n",
    "\n",
    "sns.barplot(x=counts, y=words)\n",
    "plt.title('20 Palabras Más Comunes en los Títulos')\n",
    "plt.xlabel('Frecuencia')\n",
    "plt.ylabel('Palabra')\n",
    "plt.tight_layout()\n",
    "plt.show()"
   ]
  },
  {
   "cell_type": "markdown",
   "metadata": {},
   "source": [
    "## Análisis de los abstracts"
   ]
  },
  {
   "cell_type": "code",
   "execution_count": null,
   "metadata": {},
   "outputs": [],
   "source": [
    "# Estadísticas de longitud de los abstracts\n",
    "df['abstract_length'] = df['abstract'].apply(lambda x: len(x) if pd.notna(x) else 0)\n",
    "\n",
    "print('Estadísticas de longitud de abstracts:')\n",
    "print(df['abstract_length'].describe())\n",
    "\n",
    "# Visualizar la distribución de longitud de abstracts\n",
    "plt.figure(figsize=(10, 6))\n",
    "sns.histplot(df['abstract_length'], bins=30, kde=True)\n",
    "plt.title('Distribución de Longitud de Abstracts')\n",
    "plt.xlabel('Longitud (caracteres)')\n",
    "plt.ylabel('Frecuencia')\n",
    "plt.show()"
   ]
  },
  {
   "cell_type": "code",
   "execution_count": null,
   "metadata": {},
   "outputs": [],
   "source": [
    "# Análisis de palabras en los abstracts\n",
    "abstract_tokens = df['abstract'].apply(preprocess_text)\n",
    "\n",
    "# Contar frecuencia de palabras en abstracts\n",
    "abstract_word_counts = Counter([word for tokens in abstract_tokens for word in tokens])\n",
    "\n",
    "# Mostrar las palabras más comunes en los abstracts\n",
    "print('Palabras más comunes en los abstracts:')\n",
    "for word, count in abstract_word_counts.most_common(20):\n",
    "    print(f'{word}: {count}')"
   ]
  },
  {
   "cell_type": "code",
   "execution_count": null,
   "metadata": {},
   "outputs": [],
   "source": [
    "# Visualizar las palabras más comunes en los abstracts\n",
    "plt.figure(figsize=(12, 8))\n",
    "words = [word for word, count in abstract_word_counts.most_common(20)]\n",
    "counts = [count for word, count in abstract_word_counts.most_common(20)]\n",
    "\n",
    "sns.barplot(x=counts, y=words)\n",
    "plt.title('20 Palabras Más Comunes en los Abstracts')\n",
    "plt.xlabel('Frecuencia')\n",
    "plt.ylabel('Palabra')\n",
    "plt.tight_layout()\n",
    "plt.show()"
   ]
  },
  {
   "cell_type": "markdown",
   "metadata": {},
   "source": [
    "## Análisis por categoría"
   ]
  },
  {
   "cell_type": "code",
   "execution_count": null,
   "metadata": {},
   "outputs": [],
   "source": [
    "# Crear columnas binarias para cada categoría\n",
    "categories = ['cardiovascular', 'hepatorenal', 'neurological', 'oncological']\n",
    "\n",
    "for category in categories:\n",
    "    df[category] = df['group'].apply(lambda x: 1 if pd.notna(x) and category in x else 0)\n",
    "\n",
    "# Mostrar la distribución de categorías\n",
    "print('Distribución de categorías:')\n",
    "for category in categories:\n",
    "    print(f'{category}: {df[category].sum()}')"
   ]
  },
  {
   "cell_type": "code",
   "execution_count": null,
   "metadata": {},
   "outputs": [],
   "source": [
    "# Visualizar la distribución de categorías\n",
    "plt.figure(figsize=(10, 6))\n",
    "category_counts = [df[category].sum() for category in categories]\n",
    "sns.barplot(x=categories, y=category_counts)\n",
    "plt.title('Distribución de Categorías')\n",
    "plt.xlabel('Categoría')\n",
    "plt.ylabel('Frecuencia')\n",
    "plt.xticks(rotation=45)\n",
    "plt.tight_layout()\n",
    "plt.show()"
   ]
  },
  {
   "cell_type": "code",
   "execution_count": null,
   "metadata": {},
   "outputs": [],
   "source": [
    "# Analizar co-ocurrencia de categorías\n",
    "cooccurrence = pd.DataFrame()\n",
    "\n",
    "for cat1 in categories:\n",
    "    for cat2 in categories:\n",
    "        if cat1 != cat2:\n",
    "            cooccurrence.loc[cat1, cat2] = ((df[cat1] == 1) & (df[cat2] == 1)).sum()\n",
    "        else:\n",
    "            cooccurrence.loc[cat1, cat2] = df[cat1].sum()\n",
    "\n",
    "# Visualizar matriz de co-ocurrencia\n",
    "plt.figure(figsize=(10, 8))\n",
    "sns.heatmap(cooccurrence, annot=True, fmt='d', cmap='YlGnBu')\n",
    "plt.title('Matriz de Co-ocurrencia de Categorías')\n",
    "plt.tight_layout()\n",
    "plt.show()"
   ]
  },
  {
   "cell_type": "markdown",
   "metadata": {},
   "source": [
    "## Análisis de palabras por categoría"
   ]
  },
  {
   "cell_type": "code",
   "execution_count": null,
   "metadata": {},
   "outputs": [],
   "source": [
    "# Palabras más comunes por categoría\n",
    "for category in categories:\n",
    "    # Filtrar artículos de esta categoría\n",
    "    category_df = df[df[category] == 1]\n",
    "    \n",
    "    # Procesar títulos y abstracts\n",
    "    cat_title_tokens = category_df['title'].apply(preprocess_text)\n",
    "    cat_abstract_tokens = category_df['abstract'].apply(preprocess_text)\n",
    "    \n",
    "    # Contar palabras\n",
    "    cat_title_word_counts = Counter([word for tokens in cat_title_tokens for word in tokens])\n",
    "    cat_abstract_word_counts = Counter([word for tokens in cat_abstract_tokens for word in tokens])\n",
    "    \n",
    "    print(f'\nPalabras más comunes en títulos de la categoría {category}:')\n",
    "    for word, count in cat_title_word_counts.most_common(10):\n",
    "        print(f'{word}: {count}')\n",
    "    \n",
    "    print(f'\nPalabras más comunes en abstracts de la categoría {category}:')\n",
    "    for word, count in cat_abstract_word_counts.most_common(10):\n",
    "        print(f'{word}: {count}')"
   ]
  },
  {
   "cell_type": "markdown",
   "metadata": {},
   "source": [
    "## Longitud de texto por categoría"
   ]
  },
  {
   "cell_type": "code",
   "execution_count": null,
   "metadata": {},
   "outputs": [],
   "source": [
    "# Comparar longitud de títulos y abstracts por categoría\n",
    "plt.figure(figsize=(12, 6))\n",
    "\n",
    "# Longitud de títulos por categoría\n",
    "plt.subplot(1, 2, 1)\n",
    "data = []\n",
    "labels = []\n",
    "\n",
    "for category in categories:\n",
    "    category_df = df[df[category] == 1]\n",
    "    data.append(category_df['title_length'])\n",
    "    labels.append(category)\n",
    "\n",
    "plt.boxplot(data, labels=labels)\n",
    "plt.title('Longitud de Títulos por Categoría')\n",
    "plt.ylabel('Longitud (caracteres)')\n",
    "plt.xticks(rotation=45)\n",
    "\n",
    "# Longitud de abstracts por categoría\n",
    "plt.subplot(1, 2, 2)\n",
    "data = []\n",
    "labels = []\n",
    "\n",
    "for category in categories:\n",
    "    category_df = df[df[category] == 1]\n",
    "    data.append(category_df['abstract_length'])\n",
    "    labels.append(category)\n",
    "\n",
    "plt.boxplot(data, labels=labels)\n",
    "plt.title('Longitud de Abstracts por Categoría')\n",
    "plt.ylabel('Longitud (caracteres)')\n",
    "plt.xticks(rotation=45)\n",
    "\n",
    "plt.tight_layout()\n",
    "plt.show()"
   ]
  },
  {
   "cell_type": "markdown",
   "metadata": {},
   "source": [
    "## Conclusiones del análisis exploratorio"
   ]
  },
  {
   "cell_type": "markdown",
   "metadata": {},
   "source": [
    "Después de realizar el análisis exploratorio de los datos, podemos concluir lo siguiente:\n",
    "\n",
    "1. **Estructura del dataset**:\n",
    "   - El dataset contiene 3,565 registros con 3 columnas: título, abstract y grupo (categoría).\n",
    "   - Las categorías son: cardiovascular, hepatorenal, neurological y oncological.\n",
    "   - Es un problema de clasificación multi-etiqueta, donde un artículo puede pertenecer a más de una categoría.\n",
    "\n",
    "2. **Distribución de categorías**:\n",
    "   - [Completar con los resultados del análisis]\n",
    "   - La co-ocurrencia de categorías muestra que [completar con los resultados].\n",
    "\n",
    "3. **Características de los textos**:\n",
    "   - Los títulos tienen una longitud media de [completar] caracteres.\n",
    "   - Los abstracts tienen una longitud media de [completar] caracteres.\n",
    "   - Las palabras más comunes en los títulos son [completar].\n",
    "   - Las palabras más comunes en los abstracts son [completar].\n",
    "\n",
    "4. **Diferencias entre categorías**:\n",
    "   - [Completar con las diferencias observadas entre categorías]\n",
    "\n",
    "5. **Próximos pasos**:\n",
    "   - Preprocesamiento de texto: limpieza, tokenización, eliminación de stopwords, stemming/lemmatización.\n",
    "   - Ingeniería de características: TF-IDF, word embeddings, características específicas del dominio médico.\n",
    "   - Selección de modelos: probar diferentes enfoques para clasificación multi-etiqueta.\n",
    "   - Evaluación: utilizar métricas adecuadas para problemas multi-etiqueta, como F1 score ponderado."
   ]
  },
  {
   "cell_type": "code",
   "execution_count": null,
   "metadata": {},
   "outputs": [],
   "source": [
    "# Guardar el DataFrame con las características adicionales\n",
    "df.to_csv('../data/processed/medical_literature_with_features.csv', index=False)"
   ]
  }
 ],
 "metadata": {
  "kernelspec": {
   "display_name": "Python 3",
   "language": "python",
   "name": "python3"
  },
  "language_info": {
   "codemirror_mode": {
    "name": "ipython",
    "version": 3
   },
   "file_extension": ".py",
   "mimetype": "text/x-python",
   "name": "python",
   "nbconvert_exporter": "python",
   "pygments_lexer": "ipython3",
   "version": "3.8.10"
  }
 }
}